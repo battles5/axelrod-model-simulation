{
 "cells": [
  {
   "cell_type": "code",
   "execution_count": 1,
   "outputs": [],
   "source": [
    "import numpy as np\n",
    "import matplotlib.pyplot as plt"
   ],
   "metadata": {
    "collapsed": false,
    "ExecuteTime": {
     "end_time": "2023-06-27T09:22:32.653066300Z",
     "start_time": "2023-06-27T09:22:32.403023700Z"
    }
   }
  },
  {
   "cell_type": "code",
   "execution_count": 2,
   "outputs": [],
   "source": [
    "# Parameters of the Axelrod model\n",
    "L_values = [50, 100, 150]  # size of the grid\n",
    "F_values = [2, 3, 10]  # number of features\n",
    "q = 10  # number of traits per feature\n",
    "# Parameter for the noise\n",
    "noise = [0.01, 0.1]  # probability of random cultural drift\n",
    "# Parameter for the mass media influence\n",
    "media = [0.01, 0.1]  # probability of adopting the global culture"
   ],
   "metadata": {
    "collapsed": false,
    "ExecuteTime": {
     "end_time": "2023-06-27T09:22:32.668024400Z",
     "start_time": "2023-06-27T09:22:32.655068300Z"
    }
   }
  },
  {
   "cell_type": "code",
   "execution_count": 3,
   "outputs": [],
   "source": [
    "def initialize_culture_grid(L, F, q):\n",
    "    \"\"\"\n",
    "    Initialize the culture grid.\n",
    "\n",
    "    Parameters:\n",
    "        L (int): size of the grid\n",
    "        F (int): number of features\n",
    "        q (int): number of traits per feature\n",
    "\n",
    "    Returns:\n",
    "        np.array: the culture grid\n",
    "    \"\"\"\n",
    "    return np.random.randint(q, size=(L, L, F))\n",
    "\n",
    "def simulation_step(culture_grid, L):\n",
    "    \"\"\"\n",
    "    Perform a simulation step.\n",
    "\n",
    "    Parameters:\n",
    "        culture_grid (np.array): the culture grid\n",
    "        L (int): size of the grid\n",
    "        F (int): number of features\n",
    "        q (int): number of traits per feature\n",
    "\n",
    "    Returns:\n",
    "        np.array: the updated culture grid\n",
    "    \"\"\"\n",
    "    # Randomly select an agent\n",
    "    x, y = np.random.randint(L, size=2)\n",
    "\n",
    "    # Randomly select a neighbor\n",
    "    dx, dy = np.random.choice([-1, 0, 1], size=2)\n",
    "    nx, ny = (x + dx) % L, (y + dy) % L  # periodic boundary conditions\n",
    "\n",
    "    # If they share at least one cultural feature\n",
    "    if any(culture_grid[x, y, :] == culture_grid[nx, ny, :]):\n",
    "        # The agent adopts one differing feature from the neighbor\n",
    "        differing_features = np.where(culture_grid[x, y, :] != culture_grid[nx, ny, :])[0]\n",
    "        if len(differing_features) > 0:\n",
    "            f = np.random.choice(differing_features)\n",
    "            culture_grid[x, y, f] = culture_grid[nx, ny, f]\n",
    "\n",
    "    return culture_grid\n",
    "\n",
    "def simulation_step_with_noise(culture_grid, L, noise):\n",
    "    \"\"\"\n",
    "    Perform a simulation step with noise.\n",
    "\n",
    "    Parameters:\n",
    "        culture_grid (np.array): the culture grid\n",
    "        L (int): size of the grid\n",
    "        F (int): number of features\n",
    "        q (int): number of traits per feature\n",
    "        noise (float): probability of random cultural drift\n",
    "\n",
    "    Returns:\n",
    "        np.array: the updated culture grid\n",
    "    \"\"\"\n",
    "    # Perform a normal simulation step\n",
    "    simulation_step(culture_grid, L)\n",
    "\n",
    "    # With a small probability, an agent randomly changes one of its features\n",
    "    if np.random.rand() < noise:\n",
    "        x, y = np.random.randint(L, size=2)\n",
    "        f = np.random.randint(F)\n",
    "        culture_grid[x, y, f] = np.random.randint(q)\n",
    "\n",
    "    return culture_grid\n",
    "\n",
    "def simulation_step_with_noise_and_media(culture_grid, L, media):\n",
    "    \"\"\"\n",
    "    Perform a simulation step with noise and media influence.\n",
    "\n",
    "    Parameters:\n",
    "        culture_grid (np.array): the culture grid\n",
    "        L (int): size of the grid\n",
    "        F (int): number of features\n",
    "        q (int): number of traits per feature\n",
    "        noise (float): probability of random cultural drift\n",
    "        media (float): probability of adopting the global culture\n",
    "\n",
    "    Returns:\n",
    "        np.array: the updated culture grid\n",
    "    \"\"\"\n",
    "    # The global culture\n",
    "    global_culture = np.random.randint(q, size=F)\n",
    "\n",
    "    # Perform a simulation step with noise\n",
    "    simulation_step_with_noise(culture_grid, L)\n",
    "\n",
    "    # With a small probability, an agent adopts the global culture\n",
    "    if np.random.rand() < media:\n",
    "        x, y = np.random.randint(L, size=2)\n",
    "        culture_grid[x, y, :] = global_culture\n",
    "\n",
    "def calculate_Smax_norm(culture_grid):\n",
    "    \"\"\"\n",
    "    Calculate the size of the largest homogeneous domain (Smax).\n",
    "\n",
    "    Parameters:\n",
    "        culture_grid (np.array): the culture grid\n",
    "\n",
    "    Returns:\n",
    "        int: Smax value\n",
    "    \"\"\"\n",
    "    L, _, F = culture_grid.shape\n",
    "    culture_int = np.sum(culture_grid * (q ** np.arange(F)), axis=2)\n",
    "    unique_vals, counts = np.unique(culture_int, return_counts=True)\n",
    "    max_count = np.max(counts)\n",
    "    Smax_norm = max_count / (L ** 2)\n",
    "    return Smax_norm\n"
   ],
   "metadata": {
    "collapsed": false,
    "ExecuteTime": {
     "end_time": "2023-06-27T09:22:32.696115800Z",
     "start_time": "2023-06-27T09:22:32.670026400Z"
    }
   }
  },
  {
   "cell_type": "code",
   "execution_count": null,
   "outputs": [],
   "source": [
    "F = 3\n",
    "q = 100\n",
    "q_values = range(3, q+1)\n",
    "Smax_final_dict = {}\n",
    "\n",
    "for L in L_values:\n",
    "    Smax_final = []  # Svuota la lista all'inizio di ogni iterazione su L\n",
    "    for n in q_values:\n",
    "        Smax_norm = []\n",
    "        culture_grid = initialize_culture_grid(L, F, n)\n",
    "        for _ in range(5000000):\n",
    "            culture_grid = simulation_step(culture_grid, L)\n",
    "            T = calculate_Smax_norm(culture_grid) / (L ** 2)\n",
    "            Smax_norm.append(T)\n",
    "        SF = np.max(Smax_norm)\n",
    "        Smax_final.append(SF)\n",
    "    Smax_final_dict[L] = Smax_final\n",
    "\n",
    "# Creazione dei grafici\n",
    "for L, Smax_final in Smax_final_dict.items():\n",
    "    plt.plot(list(q_values), Smax_final, label=f\"L = {L}\")  # Converto q_values in una lista\n",
    "\n",
    "plt.xlabel('q')\n",
    "plt.ylabel('Smax')\n",
    "plt.title('Variazione di Smax in relazione a q per ogni L')\n",
    "plt.legend()\n",
    "plt.grid(True)\n",
    "plt.show()"
   ],
   "metadata": {
    "collapsed": false,
    "is_executing": true,
    "ExecuteTime": {
     "start_time": "2023-06-27T09:22:32.687068600Z"
    }
   }
  },
  {
   "cell_type": "code",
   "execution_count": null,
   "outputs": [],
   "source": [],
   "metadata": {
    "collapsed": false,
    "is_executing": true
   }
  }
 ],
 "metadata": {
  "noteable-chatgpt": {
   "create_notebook": {
    "openai_conversation_id": "b37b3a41-f472-5bf5-8798-a7ddfe469c1c",
    "openai_ephemeral_user_id": "a9c8501a-051a-5ea2-b2ac-c04f7bb4b955",
    "openai_subdivision1_iso_code": "IT-45"
   }
  },
  "noteable": {
   "last_transaction_id": "6e34128d-037a-44eb-b593-4fbf746653db",
   "last_delta_id": "6e34128d-037a-44eb-b593-4fbf746653db"
  },
  "selected_hardware_size": "small",
  "nteract": {
   "version": "noteable@2.9.0"
  },
  "kernelspec": {
   "name": "python3",
   "language": "python",
   "display_name": "Python 3 (ipykernel)"
  }
 },
 "nbformat": 4,
 "nbformat_minor": 5
}
