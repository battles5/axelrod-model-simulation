{
 "cells": [
  {
   "cell_type": "code",
   "execution_count": 6,
   "metadata": {
    "collapsed": true,
    "ExecuteTime": {
     "end_time": "2023-05-26T10:51:41.931028700Z",
     "start_time": "2023-05-26T10:51:41.915396600Z"
    }
   },
   "outputs": [],
   "source": [
    "import numpy as np\n",
    "import matplotlib.pyplot as plt\n",
    "from matplotlib import colors"
   ]
  },
  {
   "cell_type": "code",
   "execution_count": 7,
   "outputs": [],
   "source": [
    "# Parameters of the Axelrod model\n",
    "grid_size = 64  # size of the grid\n",
    "F = 3  # number of features\n",
    "q = 7  # number of traits per feature\n",
    "\n",
    "# Parameter for the noise\n",
    "noise = 0.01  # probability of random cultural drift\n",
    "\n",
    "# Parameter for the mass media influence\n",
    "media = 0.01  # probability of adopting the global culture"
   ],
   "metadata": {
    "collapsed": false,
    "ExecuteTime": {
     "end_time": "2023-05-26T10:51:42.216396100Z",
     "start_time": "2023-05-26T10:51:42.179406400Z"
    }
   }
  },
  {
   "cell_type": "code",
   "execution_count": 8,
   "outputs": [],
   "source": [
    "# Initialize the culture grid\n",
    "culture_grid = np.random.randint(q, size=(grid_size, grid_size, F))"
   ],
   "metadata": {
    "collapsed": false,
    "ExecuteTime": {
     "end_time": "2023-05-26T10:51:42.548167400Z",
     "start_time": "2023-05-26T10:51:42.532665600Z"
    }
   }
  },
  {
   "cell_type": "code",
   "execution_count": 9,
   "outputs": [],
   "source": [
    "def simulation_step():\n",
    "    # Randomly select an agent\n",
    "    x, y = np.random.randint(grid_size, size=2)\n",
    "\n",
    "    # Randomly select a neighbor\n",
    "    dx, dy = np.random.choice([-1, 0, 1], size=2)\n",
    "    nx, ny = (x + dx) % grid_size, (y + dy) % grid_size  # periodic boundary conditions\n",
    "\n",
    "    # If they share at least one cultural feature\n",
    "    if any(culture_grid[x, y, :] == culture_grid[nx, ny, :]):\n",
    "        # The agent adopts one differing feature from the neighbor\n",
    "        differing_features = np.where(culture_grid[x, y, :] != culture_grid[nx, ny, :])[0]\n",
    "        if len(differing_features) > 0:\n",
    "            f = np.random.choice(differing_features)\n",
    "            culture_grid[x, y, f] = culture_grid[nx, ny, f]\n",
    "\n",
    "def simulation_step_with_noise():\n",
    "    # Perform a normal simulation step\n",
    "    simulation_step()\n",
    "\n",
    "    # With a small probability, an agent randomly changes one of its features\n",
    "    if np.random.rand() < noise:\n",
    "        x, y = np.random.randint(grid_size, size=2)\n",
    "        f = np.random.randint(F)\n",
    "        culture_grid[x, y, f] = np.random.randint(q)\n",
    "\n",
    "# The global culture\n",
    "global_culture = np.random.randint(q, size=F)\n",
    "\n",
    "def simulation_step_with_noise_and_media():\n",
    "    # Perform a simulation step with noise\n",
    "    simulation_step_with_noise()\n",
    "\n",
    "    # With a small probability, an agent adopts the global culture\n",
    "    if np.random.rand() < media:\n",
    "        x, y = np.random.randint(grid_size, size=2)\n",
    "        culture_grid[x, y, :] = global_culture"
   ],
   "metadata": {
    "collapsed": false,
    "ExecuteTime": {
     "end_time": "2023-05-26T10:51:43.118157300Z",
     "start_time": "2023-05-26T10:51:43.102491Z"
    }
   }
  },
  {
   "cell_type": "code",
   "execution_count": null,
   "outputs": [],
   "source": [
    "# Initialize the culture grid\n",
    "culture_grid = np.random.randint(q, size=(grid_size, grid_size, F))\n",
    "\n",
    "# Compute a unique integer for each possible culture\n",
    "culture_integers = np.sum(culture_grid * (q ** np.arange(F)), axis=2)\n",
    "\n",
    "# Generate a random colormap\n",
    "cmap = colors.ListedColormap(np.random.rand(q**F, 3))\n",
    "\n",
    "# Create a figure with two subplots\n",
    "fig, axs = plt.subplots(1, 2, figsize=(12, 6))\n",
    "\n",
    "# Visualize the initial state of the culture grid\n",
    "axs[0].imshow(culture_integers, cmap=cmap)\n",
    "axs[0].set_title('Initial state of the culture grid')\n",
    "\n",
    "# Run the simulation for a certain number of steps\n",
    "for _ in range(100000000):\n",
    "    simulation_step()\n",
    "\n",
    "# Compute a unique integer for each possible culture\n",
    "culture_integers = np.sum(culture_grid * (q ** np.arange(F)), axis=2)\n",
    "\n",
    "# Visualize the final state of the culture grid\n",
    "axs[1].imshow(culture_integers, cmap=cmap)\n",
    "axs[1].set_title('Final state of the culture grid')\n",
    "\n",
    "plt.show()"
   ],
   "metadata": {
    "collapsed": false,
    "is_executing": true,
    "ExecuteTime": {
     "start_time": "2023-05-26T10:51:43.875347600Z"
    }
   }
  },
  {
   "cell_type": "code",
   "execution_count": null,
   "outputs": [],
   "source": [
    "# Re-initialize the culture grid\n",
    "culture_grid = np.random.randint(q, size=(grid_size, grid_size, F))\n",
    "\n",
    "# Compute a unique integer for each possible culture\n",
    "culture_integers = np.sum(culture_grid * (q ** np.arange(F)), axis=2)\n",
    "\n",
    "# Generate a random colormap\n",
    "cmap = colors.ListedColormap(np.random.rand(q**F, 3))\n",
    "\n",
    "# Create a figure with two subplots\n",
    "fig, axs = plt.subplots(1, 2, figsize=(12, 6))\n",
    "\n",
    "# Visualize the initial state of the culture grid\n",
    "axs[0].imshow(culture_integers, cmap=cmap)\n",
    "axs[0].set_title('Initial state of the culture grid with noise')\n",
    "\n",
    "# Run the simulation for a certain number of steps\n",
    "for _ in range(1000000):\n",
    "    simulation_step_with_noise()\n",
    "\n",
    "# Compute a unique integer for each possible culture\n",
    "culture_integers = np.sum(culture_grid * (q ** np.arange(F)), axis=2)\n",
    "\n",
    "# Visualize the final state of the culture grid\n",
    "axs[1].imshow(culture_integers, cmap=cmap)\n",
    "axs[1].set_title('Final state of the culture grid with noise')\n",
    "\n",
    "plt.show()"
   ],
   "metadata": {
    "collapsed": false,
    "is_executing": true
   }
  },
  {
   "cell_type": "code",
   "execution_count": null,
   "outputs": [],
   "source": [
    "# Re-initialize the culture grid\n",
    "culture_grid = np.random.randint(q, size=(grid_size, grid_size, F))\n",
    "\n",
    "# Compute a unique integer for each possible culture\n",
    "culture_integers = np.sum(culture_grid * (q ** np.arange(F)), axis=2)\n",
    "\n",
    "# Generate a random colormap\n",
    "cmap = colors.ListedColormap(np.random.rand(q**F, 3))\n",
    "\n",
    "# Create a figure with two subplots\n",
    "fig, axs = plt.subplots(1, 2, figsize=(12, 6))\n",
    "\n",
    "# Visualize the initial state of the culture grid\n",
    "axs[0].imshow(culture_integers, cmap=cmap)\n",
    "axs[0].set_title('Initial state of the culture grid with noise')\n",
    "\n",
    "# Run the simulation with noise and mass media influence for a certain number of steps\n",
    "for _ in range(1000000):\n",
    "    simulation_step_with_noise_and_media()\n",
    "\n",
    "# Compute a unique integer for each possible culture\n",
    "culture_integers = np.sum(culture_grid * (q ** np.arange(F)), axis=2)\n",
    "\n",
    "# Visualize the final state of the culture grid\n",
    "axs[1].imshow(culture_integers, cmap=cmap)\n",
    "axs[1].set_title('Final state of the culture grid with noise and mass media influence')\n",
    "\n",
    "plt.show()"
   ],
   "metadata": {
    "collapsed": false,
    "is_executing": true
   }
  },
  {
   "cell_type": "code",
   "execution_count": null,
   "outputs": [],
   "source": [],
   "metadata": {
    "collapsed": false
   }
  }
 ],
 "metadata": {
  "kernelspec": {
   "display_name": "Python 3",
   "language": "python",
   "name": "python3"
  },
  "language_info": {
   "codemirror_mode": {
    "name": "ipython",
    "version": 2
   },
   "file_extension": ".py",
   "mimetype": "text/x-python",
   "name": "python",
   "nbconvert_exporter": "python",
   "pygments_lexer": "ipython2",
   "version": "2.7.6"
  }
 },
 "nbformat": 4,
 "nbformat_minor": 0
}
