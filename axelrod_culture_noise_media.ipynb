{
 "cells": [
  {
   "cell_type": "code",
   "execution_count": 1,
   "metadata": {
    "collapsed": true,
    "ExecuteTime": {
     "end_time": "2023-06-26T08:30:28.079787800Z",
     "start_time": "2023-06-26T08:30:27.362077300Z"
    }
   },
   "outputs": [],
   "source": [
    "import numpy as np\n",
    "import matplotlib.pyplot as plt\n",
    "from matplotlib import colors\n",
    "from sklearn.preprocessing import LabelEncoder\n",
    "from sklearn.utils import compute_class_weight"
   ]
  },
  {
   "cell_type": "code",
   "execution_count": 2,
   "outputs": [],
   "source": [
    "# Parameters of the Axelrod model\n",
    "L = [50, 100, 150]  # size of the grid\n",
    "F = [2, 3, 1]  # number of features\n",
    "q = 400  # number of traits per feature\n",
    "\n",
    "# Parameter for the noise\n",
    "noise = [0.01, 0.1]  # probability of random cultural drift\n",
    "\n",
    "# Parameter for the mass media influence\n",
    "media = [0.01, 0.1]  # probability of adopting the global culture"
   ],
   "metadata": {
    "collapsed": false,
    "ExecuteTime": {
     "end_time": "2023-06-26T08:30:28.096099700Z",
     "start_time": "2023-06-26T08:30:28.083099400Z"
    }
   }
  },
  {
   "cell_type": "code",
   "execution_count": 3,
   "outputs": [
    {
     "ename": "TypeError",
     "evalue": "'list' object cannot be interpreted as an integer",
     "output_type": "error",
     "traceback": [
      "\u001B[1;31m---------------------------------------------------------------------------\u001B[0m",
      "\u001B[1;31mTypeError\u001B[0m                                 Traceback (most recent call last)",
      "Cell \u001B[1;32mIn[3], line 2\u001B[0m\n\u001B[0;32m      1\u001B[0m \u001B[38;5;66;03m# Initialize the culture grid\u001B[39;00m\n\u001B[1;32m----> 2\u001B[0m culture_grid \u001B[38;5;241m=\u001B[39m \u001B[43mnp\u001B[49m\u001B[38;5;241;43m.\u001B[39;49m\u001B[43mrandom\u001B[49m\u001B[38;5;241;43m.\u001B[39;49m\u001B[43mrandint\u001B[49m\u001B[43m(\u001B[49m\u001B[43mq\u001B[49m\u001B[43m,\u001B[49m\u001B[43m \u001B[49m\u001B[43msize\u001B[49m\u001B[38;5;241;43m=\u001B[39;49m\u001B[43m(\u001B[49m\u001B[43mL\u001B[49m\u001B[43m,\u001B[49m\u001B[43m \u001B[49m\u001B[43mL\u001B[49m\u001B[43m,\u001B[49m\u001B[43m \u001B[49m\u001B[43mF\u001B[49m\u001B[43m)\u001B[49m\u001B[43m)\u001B[49m\n",
      "File \u001B[1;32mmtrand.pyx:746\u001B[0m, in \u001B[0;36mnumpy.random.mtrand.RandomState.randint\u001B[1;34m()\u001B[0m\n",
      "File \u001B[1;32m_bounded_integers.pyx:1347\u001B[0m, in \u001B[0;36mnumpy.random._bounded_integers._rand_int32\u001B[1;34m()\u001B[0m\n",
      "\u001B[1;31mTypeError\u001B[0m: 'list' object cannot be interpreted as an integer"
     ]
    }
   ],
   "source": [
    "# Initialize the culture grid\n",
    "culture_grid = np.random.randint(q, size=(L, L, F))"
   ],
   "metadata": {
    "collapsed": false,
    "ExecuteTime": {
     "end_time": "2023-06-26T08:30:18.525256300Z",
     "start_time": "2023-06-26T08:30:18.287465300Z"
    }
   }
  },
  {
   "cell_type": "code",
   "execution_count": 5,
   "outputs": [],
   "source": [
    "def simulation_step():\n",
    "    # Randomly select an agent\n",
    "    x, y = np.random.randint(L, size=2)\n",
    "\n",
    "    # Randomly select a neighbor\n",
    "    dx, dy = np.random.choice([-1, 0, 1], size=2)\n",
    "    nx, ny = (x + dx) % L, (y + dy) % L  # periodic boundary conditions\n",
    "\n",
    "    # If they share at least one cultural feature\n",
    "    if any(culture_grid[x, y, :] == culture_grid[nx, ny, :]):\n",
    "        # The agent adopts one differing feature from the neighbor\n",
    "        differing_features = np.where(culture_grid[x, y, :] != culture_grid[nx, ny, :])[0]\n",
    "        if len(differing_features) > 0:\n",
    "            f = np.random.choice(differing_features)\n",
    "            culture_grid[x, y, f] = culture_grid[nx, ny, f]\n",
    "\n",
    "def simulation_step_with_noise():\n",
    "    # Perform a normal simulation step\n",
    "    simulation_step()\n",
    "\n",
    "    # With a small probability, an agent randomly changes one of its features\n",
    "    if np.random.rand() < noise:\n",
    "        x, y = np.random.randint(L, size=2)\n",
    "        f = np.random.randint(F)\n",
    "        culture_grid[x, y, f] = np.random.randint(q)\n",
    "\n",
    "# The global culture\n",
    "global_culture = np.random.randint(q, size=F)\n",
    "\n",
    "def simulation_step_with_noise_and_media():\n",
    "    # Perform a simulation step with noise\n",
    "    simulation_step_with_noise()\n",
    "\n",
    "    # With a small probability, an agent adopts the global culture\n",
    "    if np.random.rand() < media:\n",
    "        x, y = np.random.randint(L, size=2)\n",
    "        culture_grid[x, y, :] = global_culture\n",
    "\n",
    "# Function to calculate the size of the largest homogeneous domain (Smax)\n",
    "def calculate_Smax(culture_grid):\n",
    "    culture_int = np.sum(culture_grid * (q ** np.arange(F)), axis=2)\n",
    "    s = np.max(np.unique(culture_int, return_counts=True)[1])\n",
    "    return s"
   ],
   "metadata": {
    "collapsed": false,
    "ExecuteTime": {
     "end_time": "2023-06-25T17:29:47.799021500Z",
     "start_time": "2023-06-25T17:29:47.752132800Z"
    }
   }
  },
  {
   "cell_type": "code",
   "execution_count": 6,
   "outputs": [
    {
     "ename": "ValueError",
     "evalue": "high <= 0",
     "output_type": "error",
     "traceback": [
      "\u001B[1;31m---------------------------------------------------------------------------\u001B[0m",
      "\u001B[1;31mValueError\u001B[0m                                Traceback (most recent call last)",
      "Cell \u001B[1;32mIn[6], line 4\u001B[0m\n\u001B[0;32m      1\u001B[0m Smax_norm \u001B[38;5;241m=\u001B[39m []\n\u001B[0;32m      3\u001B[0m \u001B[38;5;28;01mfor\u001B[39;00m n \u001B[38;5;129;01min\u001B[39;00m \u001B[38;5;28mrange\u001B[39m(q):\n\u001B[1;32m----> 4\u001B[0m     culture_grid \u001B[38;5;241m=\u001B[39m \u001B[43mnp\u001B[49m\u001B[38;5;241;43m.\u001B[39;49m\u001B[43mrandom\u001B[49m\u001B[38;5;241;43m.\u001B[39;49m\u001B[43mrandint\u001B[49m\u001B[43m(\u001B[49m\u001B[43mn\u001B[49m\u001B[43m,\u001B[49m\u001B[43m \u001B[49m\u001B[43msize\u001B[49m\u001B[38;5;241;43m=\u001B[39;49m\u001B[43m(\u001B[49m\u001B[43mgrid_size\u001B[49m\u001B[43m,\u001B[49m\u001B[43m \u001B[49m\u001B[43mgrid_size\u001B[49m\u001B[43m,\u001B[49m\u001B[43m \u001B[49m\u001B[43mF\u001B[49m\u001B[43m)\u001B[49m\u001B[43m)\u001B[49m\n\u001B[0;32m      5\u001B[0m     culture_integers \u001B[38;5;241m=\u001B[39m np\u001B[38;5;241m.\u001B[39msum(culture_grid \u001B[38;5;241m*\u001B[39m (n \u001B[38;5;241m*\u001B[39m\u001B[38;5;241m*\u001B[39m np\u001B[38;5;241m.\u001B[39marange(F)), axis\u001B[38;5;241m=\u001B[39m\u001B[38;5;241m2\u001B[39m)\n\u001B[0;32m      6\u001B[0m     \u001B[38;5;28;01mfor\u001B[39;00m _ \u001B[38;5;129;01min\u001B[39;00m \u001B[38;5;28mrange\u001B[39m(\u001B[38;5;241m5000\u001B[39m):\n",
      "File \u001B[1;32mmtrand.pyx:746\u001B[0m, in \u001B[0;36mnumpy.random.mtrand.RandomState.randint\u001B[1;34m()\u001B[0m\n",
      "File \u001B[1;32m_bounded_integers.pyx:1338\u001B[0m, in \u001B[0;36mnumpy.random._bounded_integers._rand_int32\u001B[1;34m()\u001B[0m\n",
      "\u001B[1;31mValueError\u001B[0m: high <= 0"
     ]
    }
   ],
   "source": [
    "Smax_norm = []\n",
    "\n",
    "for n in range(q):\n",
    "    culture_grid = np.random.randint(n, size=(L, L, F))\n",
    "    culture_integers = np.sum(culture_grid * (n ** np.arange(F)), axis=2)\n",
    "    for _ in range(5000):\n",
    "        simulation_step()\n",
    "        T = calculate_Smax(culture_grid)/(L**2)\n",
    "        Smax_norm.append(T)"
   ],
   "metadata": {
    "collapsed": false,
    "ExecuteTime": {
     "end_time": "2023-06-25T17:33:53.446944100Z",
     "start_time": "2023-06-25T17:33:53.377753400Z"
    }
   }
  },
  {
   "cell_type": "code",
   "execution_count": null,
   "outputs": [],
   "source": [
    "# Initialize the culture grid\n",
    "culture_grid = np.random.randint(q, size=(L, L, F))\n",
    "\n",
    "# Compute a unique integer for each possible culture\n",
    "culture_integers = np.sum(culture_grid * (q ** np.arange(F)), axis=2)\n",
    "\n",
    "# Generate a random colormap\n",
    "cmap = colors.ListedColormap(np.random.rand(q**F, 3))\n",
    "\n",
    "# Create a figure with two subplots\n",
    "fig, axs = plt.subplots(1, 2, figsize=(12, 6))\n",
    "\n",
    "# Visualize the initial state of the culture grid\n",
    "axs[0].imshow(culture_integers, cmap=cmap)\n",
    "axs[0].set_title('Initial state of the culture grid')\n",
    "\n",
    "Smax_norm = []\n",
    "\n",
    "# Run the simulation for a certain number of steps\n",
    "\n",
    "for _ in range(50000):\n",
    "    simulation_step()\n",
    "    T = calculate_Smax(culture_grid)/(L**2)\n",
    "    Smax_norm.append(T)\n",
    "\n",
    "# Create a plot for Smax_norm over simulation steps\n",
    "plt.figure(figsize=(12, 8)) # Create a new figure with a specific size (in inches)\n",
    "plt.plot(Smax_norm, color='cyan', linewidth=2, linestyle='solid') # Create a plot with a custom line color, width, and style\n",
    "plt.grid(True, linestyle='solid', alpha=0.6) # Add a grid\n",
    "plt.title('Smax/N values over simulation steps', fontsize=20, fontweight='bold', color='darkblue') # Add a title with a custom font size\n",
    "\n",
    "plt.xlabel('Simulation Step', fontsize=14, fontweight='bold', color='darkblue') # Label x-axis\n",
    "\n",
    "# Label y-axis\n",
    "plt.ylabel('Smax/N', fontsize=14, fontweight='bold', color='darkblue')\n",
    "\n",
    "# Increase tick label size for better visibility\n",
    "plt.xticks(fontsize=12)\n",
    "plt.yticks(fontsize=12)\n",
    "\n",
    "# Compute a unique integer for each possible culture\n",
    "culture_integers = np.sum(culture_grid * (q ** np.arange(F)), axis=2)\n",
    "\n",
    "# Visualize the final state of the culture grid\n",
    "axs[1].imshow(culture_integers, cmap=cmap)\n",
    "axs[1].set_title('Final state of the culture grid')\n",
    "\n",
    "plt.show()"
   ],
   "metadata": {
    "collapsed": false
   }
  },
  {
   "cell_type": "code",
   "execution_count": null,
   "outputs": [],
   "source": [
    "# Initialize the culture grid\n",
    "culture_grid = np.random.randint(q, size=(L, L, F))\n",
    "\n",
    "list = []\n",
    "\n",
    "# Run the simulation for a certain number of steps\n",
    "for _ in range(10000000):\n",
    "    simulation_step_with_noise()\n",
    "    T = calculate_Smax(culture_grid)/(L**2)\n",
    "    list.append(T)"
   ],
   "metadata": {
    "collapsed": false
   }
  },
  {
   "cell_type": "code",
   "execution_count": null,
   "outputs": [],
   "source": [
    "# Create a plot of the values in the list\n",
    "plt.figure(figsize=(10,6))\n",
    "plt.plot(list)\n",
    "plt.title('Smax values over simulation steps')\n",
    "plt.xlabel('Simulation Step')\n",
    "plt.ylabel('Smax')\n",
    "plt.show()"
   ],
   "metadata": {
    "collapsed": false
   }
  },
  {
   "cell_type": "code",
   "execution_count": null,
   "outputs": [],
   "source": [
    "# Initialize the culture grid\n",
    "culture_grid = np.random.randint(q, size=(L, L, F))\n",
    "\n",
    "list = []\n",
    "\n",
    "# Run the simulation for a certain number of steps\n",
    "for _ in range(10000000):\n",
    "    simulation_step_with_noise_and_media()\n",
    "    T = calculate_Smax(culture_grid)/(L**2)\n",
    "    list.append(T)"
   ],
   "metadata": {
    "collapsed": false
   }
  },
  {
   "cell_type": "code",
   "execution_count": null,
   "outputs": [],
   "source": [
    "# Create a plot of the values in the list\n",
    "plt.figure(figsize=(10,6))\n",
    "plt.plot(list)\n",
    "plt.title('Smax values over simulation steps')\n",
    "plt.xlabel('Simulation Step')\n",
    "plt.ylabel('Smax')\n",
    "plt.show()"
   ],
   "metadata": {
    "collapsed": false
   }
  },
  {
   "cell_type": "code",
   "execution_count": null,
   "outputs": [],
   "source": [
    "np.average(list)"
   ],
   "metadata": {
    "collapsed": false
   }
  },
  {
   "cell_type": "code",
   "execution_count": null,
   "outputs": [],
   "source": [
    "# Initialize the culture grid\n",
    "culture_grid = np.random.randint(q, size=(L, L, F))\n",
    "\n",
    "# Compute a unique integer for each possible culture\n",
    "culture_integers = np.sum(culture_grid * (q ** np.arange(F)), axis=2)\n",
    "\n",
    "# Generate a random colormap\n",
    "cmap = colors.ListedColormap(np.random.rand(q**F, 3))\n",
    "\n",
    "# Create a figure with two subplots\n",
    "fig, axs = plt.subplots(1, 2, figsize=(12, 6))\n",
    "\n",
    "# Visualize the initial state of the culture grid\n",
    "axs[0].imshow(culture_integers, cmap=cmap)\n",
    "axs[0].set_title('Initial state of the culture grid')\n",
    "\n",
    "# Run the simulation for a certain number of steps\n",
    "for _ in range(30000000):\n",
    "    simulation_step()\n",
    "\n",
    "# Compute a unique integer for each possible culture\n",
    "culture_integers = np.sum(culture_grid * (q ** np.arange(F)), axis=2)\n",
    "\n",
    "# Visualize the final state of the culture grid\n",
    "axs[1].imshow(culture_integers, cmap=cmap)\n",
    "axs[1].set_title('Final state of the culture grid')\n",
    "\n",
    "plt.show()"
   ],
   "metadata": {
    "collapsed": false
   }
  },
  {
   "cell_type": "code",
   "execution_count": null,
   "outputs": [],
   "source": [
    "# Re-initialize the culture grid\n",
    "culture_grid = np.random.randint(q, size=(L, L, F))\n",
    "\n",
    "# Compute a unique integer for each possible culture\n",
    "culture_integers = np.sum(culture_grid * (q ** np.arange(F)), axis=2)\n",
    "\n",
    "# Generate a random colormap\n",
    "cmap = colors.ListedColormap(np.random.rand(q**F, 3))\n",
    "\n",
    "# Create a figure with two subplots\n",
    "fig, axs = plt.subplots(1, 2, figsize=(12, 6))\n",
    "\n",
    "# Visualize the initial state of the culture grid\n",
    "axs[0].imshow(culture_integers, cmap=cmap)\n",
    "axs[0].set_title('Initial state of the culture grid with noise')\n",
    "\n",
    "# Run the simulation for a certain number of steps\n",
    "for _ in range(30000000):\n",
    "    simulation_step_with_noise()\n",
    "\n",
    "# Compute a unique integer for each possible culture\n",
    "culture_integers = np.sum(culture_grid * (q ** np.arange(F)), axis=2)\n",
    "\n",
    "# Visualize the final state of the culture grid\n",
    "axs[1].imshow(culture_integers, cmap=cmap)\n",
    "axs[1].set_title('Final state of the culture grid with noise')\n",
    "\n",
    "plt.show()"
   ],
   "metadata": {
    "collapsed": false
   }
  },
  {
   "cell_type": "code",
   "execution_count": null,
   "outputs": [],
   "source": [
    "# Re-initialize the culture grid\n",
    "culture_grid = np.random.randint(q, size=(L, L, F))\n",
    "\n",
    "# Compute a unique integer for each possible culture\n",
    "culture_integers = np.sum(culture_grid * (q ** np.arange(F)), axis=2)\n",
    "\n",
    "# Generate a random colormap\n",
    "cmap = colors.ListedColormap(np.random.rand(q**F, 3))\n",
    "\n",
    "# Create a figure with two subplots\n",
    "fig, axs = plt.subplots(1, 2, figsize=(12, 6))\n",
    "\n",
    "# Visualize the initial state of the culture grid\n",
    "axs[0].imshow(culture_integers, cmap=cmap)\n",
    "axs[0].set_title('Initial state of the culture grid with noise')\n",
    "\n",
    "# Run the simulation with noise and mass media influence for a certain number of steps\n",
    "for _ in range(30000000):\n",
    "    simulation_step_with_noise_and_media()\n",
    "\n",
    "# Compute a unique integer for each possible culture\n",
    "culture_integers = np.sum(culture_grid * (q ** np.arange(F)), axis=2)\n",
    "\n",
    "# Visualize the final state of the culture grid\n",
    "axs[1].imshow(culture_integers, cmap=cmap)\n",
    "axs[1].set_title('Final state of the culture grid with noise and mass media influence')\n",
    "\n",
    "plt.show()"
   ],
   "metadata": {
    "collapsed": false
   }
  },
  {
   "cell_type": "code",
   "execution_count": null,
   "outputs": [],
   "source": [
    "import numpy as np\n",
    "from scipy.ndimage import label"
   ],
   "metadata": {
    "collapsed": false
   }
  },
  {
   "cell_type": "code",
   "execution_count": null,
   "outputs": [],
   "source": [
    "\n",
    "\n",
    "# Function to calculate the initial degree of disorder (q)\n",
    "def calculate_q(culture_grid):\n",
    "    # Compute a unique integer for each possible culture\n",
    "    culture_integers = np.sum(culture_grid * (q ** np.arange(F)), axis=2)\n",
    "    # Flatten the culture grid\n",
    "    culture_integers_flat = culture_integers.flatten()\n",
    "    # Encode the unique integers as class labels\n",
    "    label_encoder = LabelEncoder()\n",
    "    culture_labels = label_encoder.fit_transform(culture_integers_flat)\n",
    "    # Compute the class weights\n",
    "    class_weights = compute_class_weight('balanced', np.unique(culture_labels), culture_labels)\n",
    "    # Return the sum of the class weights\n",
    "    return np.sum(class_weights)"
   ],
   "metadata": {
    "collapsed": false
   }
  },
  {
   "cell_type": "code",
   "execution_count": null,
   "outputs": [],
   "source": [
    "# q = calculate_q(culture_grid)\n",
    "Smax = calculate_Smax(culture_grid)\n",
    "\n",
    "print(Smax)\n",
    "print(culture_grid.size)"
   ],
   "metadata": {
    "collapsed": false
   }
  },
  {
   "cell_type": "code",
   "execution_count": null,
   "outputs": [],
   "source": [
    "T = Smax/(L**2)\n",
    "print(T)"
   ],
   "metadata": {
    "collapsed": false
   }
  },
  {
   "cell_type": "code",
   "execution_count": null,
   "outputs": [],
   "source": [
    "# Run the simulation multiple times and store the results\n",
    "results = [run_simulation_and_calculate_Smax_and_q(100000) for _ in range(10)]\n",
    "\n",
    "# Convert the results to a numpy array\n",
    "results = np.array(results)\n",
    "\n",
    "# Plot Smax/N as a function of q\n",
    "plt.figure(figsize=(10, 6))\n",
    "plt.scatter(results[:, 1], results[:, 0] / (L * L))\n",
    "plt.xlabel('q')\n",
    "plt.ylabel('Smax/N')\n",
    "plt.title('Order parameter (Smax/N) as a function of the control parameter (q)')\n",
    "plt.grid(True)\n",
    "plt.show()"
   ],
   "metadata": {
    "collapsed": false
   }
  },
  {
   "cell_type": "code",
   "execution_count": null,
   "outputs": [],
   "source": [
    "from mesa import Agent, Model\n",
    "from mesa.time import RandomActivation\n",
    "from mesa.space import SingleGrid\n",
    "from mesa.datacollection import DataCollector\n",
    "import random\n",
    "\n",
    "class Turtle(Agent):\n",
    "    def __init__(self, unique_id, model, color):\n",
    "        super().__init__(unique_id, model)\n",
    "        self.color = color\n",
    "        self.happy = False\n",
    "\n",
    "    def step(self):\n",
    "        similar = 0\n",
    "        different = 0\n",
    "\n",
    "        for neighbor in self.model.grid.neighbor_iter(self.pos):\n",
    "            if isinstance(neighbor, Turtle):\n",
    "                if neighbor.color == self.color:\n",
    "                    similar += 1\n",
    "                else:\n",
    "                    different += 1\n",
    "\n",
    "        if similar + different > 0:\n",
    "            self.happy = similar / (similar + different) > self.model.similarity_threshold\n",
    "\n",
    "        if not self.happy:\n",
    "            self.model.grid.move_to_empty(self)\n",
    "\n",
    "class Schelling(Model):\n",
    "    def __init__(self, width, height, density, similarity_threshold):\n",
    "        self.width = width\n",
    "        self.height = height\n",
    "        self.density = density\n",
    "        self.similarity_threshold = similarity_threshold\n",
    "\n",
    "        self.schedule = RandomActivation(self)\n",
    "        self.grid = SingleGrid(width, height, torus=True)\n",
    "\n",
    "        self.datacollector = DataCollector(\n",
    "            {\"happy\": lambda m: self.count_happy(m)}\n",
    "        )\n",
    "        for cell in self.grid.coord_iter():\n",
    "            x = cell[1]\n",
    "            y = cell[2]\n",
    "            if random.random() < self.density:\n",
    "                if random.random() < 0.5:\n",
    "                    agent = Turtle(self.next_id(), self, \"orange\")\n",
    "                else:\n",
    "                    agent = Turtle(self.next_id(), self, \"blue\")\n",
    "                self.grid.position_agent(agent, (x, y))\n",
    "                self.schedule.add(agent)\n",
    "\n",
    "    def step(self):\n",
    "        self.datacollector.collect(self)\n",
    "        self.schedule.step()\n",
    "\n",
    "    @staticmethod\n",
    "    def count_happy(model):\n",
    "        happy = 0\n",
    "        for agent in model.schedule.agents:\n",
    "            if agent.happy:\n",
    "                happy += 1\n",
    "        return happy\n",
    "\n",
    "model = Schelling(10, 10, 0.8, 0.5)\n",
    "for i in range(100):\n",
    "    model.step()\n",
    "\n",
    "# Plot the number of unhappy agents over time\n",
    "unhappy_data = model.datacollector.get_model_vars_dataframe()[\"unhappy\"]\n",
    "plt.figure()\n",
    "unhappy_data.plot()\n",
    "plt.title('Number of Unhappy Agents Over Time')\n",
    "plt.xlabel('Step')\n",
    "plt.ylabel('Number of Unhappy Agents')\n",
    "\n",
    "# Plot the percent of similar agents over time\n",
    "similar_data = model.datacollector.get_model_vars_dataframe()[\"similar\"]\n",
    "plt.figure()\n",
    "similar_data.plot()\n",
    "plt.title('Percent of Similar Agents Over Time')\n",
    "plt.xlabel('Step')\n",
    "plt.ylabel('Percent of Similar Agents')\n",
    "\n",
    "plt.show()"
   ],
   "metadata": {
    "collapsed": false
   }
  },
  {
   "cell_type": "code",
   "execution_count": null,
   "outputs": [],
   "source": [],
   "metadata": {
    "collapsed": false
   }
  }
 ],
 "metadata": {
  "kernelspec": {
   "display_name": "Python 3",
   "language": "python",
   "name": "python3"
  },
  "language_info": {
   "codemirror_mode": {
    "name": "ipython",
    "version": 2
   },
   "file_extension": ".py",
   "mimetype": "text/x-python",
   "name": "python",
   "nbconvert_exporter": "python",
   "pygments_lexer": "ipython2",
   "version": "2.7.6"
  }
 },
 "nbformat": 4,
 "nbformat_minor": 0
}
