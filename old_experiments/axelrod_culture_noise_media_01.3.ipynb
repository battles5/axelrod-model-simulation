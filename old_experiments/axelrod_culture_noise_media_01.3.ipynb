{
 "cells": [
  {
   "cell_type": "code",
   "execution_count": 1,
   "outputs": [],
   "source": [
    "import numpy as np\n",
    "import matplotlib.pyplot as plt\n",
    "from matplotlib import colors"
   ],
   "metadata": {
    "collapsed": false,
    "ExecuteTime": {
     "end_time": "2023-07-13T07:30:18.184655Z",
     "start_time": "2023-07-13T07:30:17.614529400Z"
    }
   }
  },
  {
   "cell_type": "code",
   "execution_count": 2,
   "outputs": [],
   "source": [
    "# Parameters of the Axelrod model\n",
    "grid_size = 32  # size of the grid\n",
    "F = 3  # number of features\n",
    "q = 10  # number of traits per feature\n",
    "\n",
    "# Parameter for the noise\n",
    "noise = 0.01  # probability of random cultural drift\n",
    "\n",
    "# Parameter for the mass media influence\n",
    "media = 0.01  # probability of adopting the global culture"
   ],
   "metadata": {
    "collapsed": false,
    "ExecuteTime": {
     "end_time": "2023-07-13T07:30:18.200228400Z",
     "start_time": "2023-07-13T07:30:18.184655Z"
    }
   }
  },
  {
   "cell_type": "code",
   "execution_count": 3,
   "outputs": [],
   "source": [
    "# Initialize the culture grid\n",
    "culture_grid = np.random.randint(q, size=(grid_size, grid_size, F))"
   ],
   "metadata": {
    "collapsed": false,
    "ExecuteTime": {
     "end_time": "2023-07-13T07:30:18.250849100Z",
     "start_time": "2023-07-13T07:30:18.200228400Z"
    }
   }
  },
  {
   "cell_type": "code",
   "execution_count": 4,
   "outputs": [],
   "source": [
    "def simulation_step():\n",
    "    # Randomly select an agent\n",
    "    x, y = np.random.randint(grid_size, size=2)\n",
    "\n",
    "    # Randomly select a neighbor\n",
    "    dx, dy = np.random.choice([-1, 0, 1], size=2)\n",
    "    nx, ny = (x + dx) % grid_size, (y + dy) % grid_size  # periodic boundary conditions\n",
    "\n",
    "    # If they share at least one cultural feature\n",
    "    if any(culture_grid[x, y, :] == culture_grid[nx, ny, :]):\n",
    "        # The agent adopts one differing feature from the neighbor\n",
    "        differing_features = np.where(culture_grid[x, y, :] != culture_grid[nx, ny, :])[0]\n",
    "        if len(differing_features) > 0:\n",
    "            f = np.random.choice(differing_features)\n",
    "            culture_grid[x, y, f] = culture_grid[nx, ny, f]\n",
    "\n",
    "def simulation_step_with_noise():\n",
    "    # Perform a normal simulation step\n",
    "    simulation_step()\n",
    "\n",
    "    # With a small probability, an agent randomly changes one of its features\n",
    "    if np.random.rand() < noise:\n",
    "        x, y = np.random.randint(grid_size, size=2)\n",
    "        f = np.random.randint(F)\n",
    "        culture_grid[x, y, f] = np.random.randint(q)\n",
    "\n",
    "def calculate_global_culture(culture_grid):\n",
    "    L, _, F = culture_grid.shape\n",
    "    culture_int = np.sum(culture_grid * (q ** np.arange(F)), axis=2)\n",
    "    unique_vals, counts = np.unique(culture_int, return_counts=True)\n",
    "    most_common_culture_int = unique_vals[np.argmax(counts)]\n",
    "    most_common_culture = np.zeros(F)\n",
    "    for i in range(F-1, -1, -1):\n",
    "        most_common_culture[i] = most_common_culture_int % q\n",
    "        most_common_culture_int //= q\n",
    "    return most_common_culture\n",
    "\n",
    "# The global culture\n",
    "global_culture = calculate_global_culture(culture_grid)\n",
    "\n",
    "def simulation_step_with_noise_and_media():\n",
    "    # Perform a simulation step with noise\n",
    "    simulation_step_with_noise()\n",
    "\n",
    "    # With a small probability, an agent adopts the global culture\n",
    "    if np.random.rand() < media:\n",
    "        x, y = np.random.randint(grid_size, size=2)\n",
    "        culture_grid[x, y, :] = global_culture\n",
    "\n",
    "def calculate_Smax_norm():\n",
    "    L, _, F = culture_grid.shape\n",
    "    culture_int = np.sum(culture_grid * (q ** np.arange(F)), axis=2)\n",
    "    unique_vals, counts = np.unique(culture_int, return_counts=True)\n",
    "    max_count = np.max(counts)\n",
    "    Smax_norm = max_count / (L ** 2)\n",
    "    return Smax_norm"
   ],
   "metadata": {
    "collapsed": false,
    "ExecuteTime": {
     "end_time": "2023-07-13T07:30:18.269211600Z",
     "start_time": "2023-07-13T07:30:18.242620500Z"
    }
   }
  },
  {
   "cell_type": "code",
   "execution_count": 7,
   "outputs": [
    {
     "data": {
      "text/plain": "<Figure size 1000x600 with 1 Axes>",
      "image/png": "[encoded data removed]"
     },
     "metadata": {},
     "output_type": "display_data"
    }
   ],
   "source": [
    "# Initialize a list to store final Smax values for each q\n",
    "final_smax_values = []\n",
    "q_values = range(10, 401, 5)\n",
    "\n",
    "for q in q_values:\n",
    "    # Initialize the culture grid\n",
    "    culture_grid = np.random.randint(q, size=(grid_size, grid_size, F))\n",
    "    smax_values = []\n",
    "\n",
    "    # Run the simulation with noise and mass media influence for a certain number of steps\n",
    "    for _ in range(5000000):\n",
    "        simulation_step()\n",
    "        smax = calculate_Smax_norm()\n",
    "        smax_values.append(smax)\n",
    "\n",
    "    # Store the final Smax value for this q\n",
    "    final_smax_values.append(smax_values[-1])\n",
    "\n",
    "# Plot final Smax values vs q\n",
    "plt.figure(figsize=(10, 6))\n",
    "plt.plot(q_values, final_smax_values)\n",
    "plt.xlabel('q')\n",
    "plt.ylabel('Final Smax')\n",
    "plt.title('Final Smax values for different q')\n",
    "plt.show()\n"
   ],
   "metadata": {
    "collapsed": false,
    "ExecuteTime": {
     "end_time": "2023-07-14T01:37:59.216557300Z",
     "start_time": "2023-07-13T13:31:01.693287800Z"
    }
   }
  },
  {
   "cell_type": "code",
   "execution_count": null,
   "outputs": [],
   "source": [],
   "metadata": {
    "collapsed": false
   }
  }
 ],
 "metadata": {
  "kernelspec": {
   "display_name": "Python 3",
   "language": "python",
   "name": "python3"
  },
  "language_info": {
   "codemirror_mode": {
    "name": "ipython",
    "version": 2
   },
   "file_extension": ".py",
   "mimetype": "text/x-python",
   "name": "python",
   "nbconvert_exporter": "python",
   "pygments_lexer": "ipython2",
   "version": "2.7.6"
  }
 },
 "nbformat": 4,
 "nbformat_minor": 0
}
